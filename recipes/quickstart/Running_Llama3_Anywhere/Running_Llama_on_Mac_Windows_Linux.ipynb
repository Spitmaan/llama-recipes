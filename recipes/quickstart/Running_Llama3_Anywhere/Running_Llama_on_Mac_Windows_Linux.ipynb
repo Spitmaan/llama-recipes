{
 "cells": [
  {
   "cell_type": "markdown",
   "metadata": {},
   "source": [
    "## Running Llama 3 on Mac, Windows or Linux\n",
    "This notebook goes over how you can set up and run Llama 3 locally on a Mac, Windows or Linux using [Ollama](https://ollama.com/)."
   ]
  },
  {
   "cell_type": "markdown",
   "metadata": {},
   "source": [
    "### Steps at a glance:\n",
    "1. Download and install Ollama.\n",
    "2. Download and test run Llama 3.\n",
    "3. Use local Llama 3 via Python.\n",
    "4. Use local Llama 3 via LangChain.\n"
   ]
  },
  {
   "cell_type": "markdown",
   "metadata": {},
   "source": [
    "#### 1. Download and install Ollama\n",
    "\n",
    "On Mac or Windows, go to the Ollama download page [here](https://ollama.com/download) and select your platform to download it, then double click the downloaded file to install Ollama.\n",
    "\n",
    "On Linux, you can simply run on a terminal `curl -fsSL https://ollama.com/install.sh | sh` to download and install Ollama."
   ]
  },
  {
   "cell_type": "markdown",
   "metadata": {},
   "source": [
    "#### 2. Download and test run Llama 3\n",
    "\n",
    "On a terminal or console, run `ollama pull llama3` to download the Llama 3 8b chat model, in the 4-bit quantized format with size about 4.7 GB.\n",
    "\n",
    "Run `ollama pull llama3:70b` to download the Llama 3 70b chat model, also in the 4-bit quantized format with size 39GB.\n",
    "\n",
    "Then you can run `ollama run llama3` and ask Llama 3 questions such as \"who wrote the book godfather?\" or \"who wrote the book godfather? answer in one sentence.\" You can also try `ollama run llama3:70b`, but the inference speed will most likely be too slow - for example, on an Apple M1 Pro with 32GB RAM, it takes over 10 seconds to generate one token using Llama 3 70b chat (vs over 10 tokens per second with Llama 3 8b chat).\n",
    "\n",
    "You can also run the following command to test Llama 3 8b chat:\n",
    "```\n",
    " curl http://localhost:11434/api/chat -d '{\n",
    "  \"model\": \"llama3\",\n",
    "  \"messages\": [\n",
    "    {\n",
    "      \"role\": \"user\",\n",
    "      \"content\": \"who wrote the book godfather?\"\n",
    "    }\n",
    "  ],\n",
    "  \"stream\": false\n",
    "}'\n",
    "```\n",
    "\n",
    "The complete Ollama API doc is [here](https://github.com/ollama/ollama/blob/main/docs/api.md)."
   ]
  },
  {
   "cell_type": "markdown",
   "metadata": {},
   "source": [
    "#### 3. Use local Llama 3 via Python\n",
    "\n",
    "The Python code below is the port of the curl command above."
   ]
  },
  {
   "cell_type": "code",
   "metadata": {
    "ExecuteTime": {
     "end_time": "2024-07-23T19:44:28.808863Z",
     "start_time": "2024-07-23T19:44:28.751096Z"
    }
   },
   "source": [
    "import requests\n",
    "import json\n",
    "\n",
    "url = \"http://localhost:11434/api/chat\"\n",
    "\n",
    "def llama3(prompt):\n",
    "    data = {\n",
    "        \"model\": \"llama3\",\n",
    "        \"messages\": [\n",
    "            {\n",
    "              \"role\": \"user\",\n",
    "              \"content\": prompt\n",
    "            }\n",
    "        ],\n",
    "        \"stream\": False\n",
    "    }\n",
    "    \n",
    "    headers = {\n",
    "        'Content-Type': 'application/json'\n",
    "    }\n",
    "    \n",
    "    response = requests.post(url, headers=headers, json=data)\n",
    "    \n",
    "    return(response.json()['message']['content'])"
   ],
   "outputs": [],
   "execution_count": 1
  },
  {
   "cell_type": "code",
   "metadata": {
    "ExecuteTime": {
     "end_time": "2024-07-23T19:44:56.375701Z",
     "start_time": "2024-07-23T19:44:34.309197Z"
    }
   },
   "source": [
    "response = llama3(\"who wrote the book godfather\")\n",
    "print(response)"
   ],
   "outputs": [
    {
     "name": "stdout",
     "output_type": "stream",
     "text": [
      "The novel \"The Godfather\" was written by Mario Puzo. The book was published in 1969 and has since become a classic of American literature.\n",
      "\n",
      "Mario Puzo (1920-1999) was an American author, screenwriter, and playwright who is best known for his novels about the Italian-American Mafia. In addition to \"The Godfather,\" Puzo wrote several other successful books about organized crime, including \"Fools Die\" (1978), \"The Last Don\" (1996), and \"The Fourth K\" (1990).\n",
      "\n",
      "Puzo's novel \"The Godfather\" was a huge success, and it has been adapted into a famous film of the same name directed by Francis Ford Coppola. The book and the movie tell the story of the Corleone crime family and their struggles to maintain power in a rapidly changing world.\n",
      "\n",
      "It's worth noting that while Puzo wrote the novel, the screenplay for the film adaptation was written by Mario Puzo and Francis Ford Coppola.\n"
     ]
    }
   ],
   "execution_count": 2
  },
  {
   "cell_type": "markdown",
   "metadata": {},
   "source": [
    "#### 4. Use local Llama 3 via LangChain\n",
    "\n",
    "Code below use LangChain with Ollama to query Llama 3 running locally. For a more advanced example of using local Llama 3 with LangChain and agent-powered RAG, see [this](https://github.com/langchain-ai/langgraph/blob/main/examples/rag/langgraph_rag_agent_llama3_local.ipynb)."
   ]
  },
  {
   "cell_type": "code",
   "metadata": {
    "ExecuteTime": {
     "end_time": "2024-07-23T19:49:57.359010Z",
     "start_time": "2024-07-23T19:49:53.709110Z"
    }
   },
   "source": "!pip install langchain langchain_community",
   "outputs": [
    {
     "name": "stdout",
     "output_type": "stream",
     "text": [
      "Requirement already satisfied: langchain in /Users/mehranspitman/opt/anaconda3/envs/EvalTest_py_3_8/lib/python3.8/site-packages (0.2.11)\r\n",
      "Collecting langchain_community\r\n",
      "  Downloading langchain_community-0.2.10-py3-none-any.whl.metadata (2.7 kB)\r\n",
      "Requirement already satisfied: PyYAML>=5.3 in /Users/mehranspitman/opt/anaconda3/envs/EvalTest_py_3_8/lib/python3.8/site-packages (from langchain) (6.0.1)\r\n",
      "Requirement already satisfied: SQLAlchemy<3,>=1.4 in /Users/mehranspitman/opt/anaconda3/envs/EvalTest_py_3_8/lib/python3.8/site-packages (from langchain) (2.0.31)\r\n",
      "Requirement already satisfied: aiohttp<4.0.0,>=3.8.3 in /Users/mehranspitman/opt/anaconda3/envs/EvalTest_py_3_8/lib/python3.8/site-packages (from langchain) (3.9.5)\r\n",
      "Requirement already satisfied: async-timeout<5.0.0,>=4.0.0 in /Users/mehranspitman/opt/anaconda3/envs/EvalTest_py_3_8/lib/python3.8/site-packages (from langchain) (4.0.3)\r\n",
      "Requirement already satisfied: langchain-core<0.3.0,>=0.2.23 in /Users/mehranspitman/opt/anaconda3/envs/EvalTest_py_3_8/lib/python3.8/site-packages (from langchain) (0.2.23)\r\n",
      "Requirement already satisfied: langchain-text-splitters<0.3.0,>=0.2.0 in /Users/mehranspitman/opt/anaconda3/envs/EvalTest_py_3_8/lib/python3.8/site-packages (from langchain) (0.2.2)\r\n",
      "Requirement already satisfied: langsmith<0.2.0,>=0.1.17 in /Users/mehranspitman/opt/anaconda3/envs/EvalTest_py_3_8/lib/python3.8/site-packages (from langchain) (0.1.93)\r\n",
      "Requirement already satisfied: numpy<2,>=1 in /Users/mehranspitman/opt/anaconda3/envs/EvalTest_py_3_8/lib/python3.8/site-packages (from langchain) (1.22.4)\r\n",
      "Requirement already satisfied: pydantic<3,>=1 in /Users/mehranspitman/opt/anaconda3/envs/EvalTest_py_3_8/lib/python3.8/site-packages (from langchain) (2.8.2)\r\n",
      "Requirement already satisfied: requests<3,>=2 in /Users/mehranspitman/opt/anaconda3/envs/EvalTest_py_3_8/lib/python3.8/site-packages (from langchain) (2.31.0)\r\n",
      "Requirement already satisfied: tenacity!=8.4.0,<9.0.0,>=8.1.0 in /Users/mehranspitman/opt/anaconda3/envs/EvalTest_py_3_8/lib/python3.8/site-packages (from langchain) (8.5.0)\r\n",
      "Collecting dataclasses-json<0.7,>=0.5.7 (from langchain_community)\r\n",
      "  Downloading dataclasses_json-0.6.7-py3-none-any.whl.metadata (25 kB)\r\n",
      "Requirement already satisfied: aiosignal>=1.1.2 in /Users/mehranspitman/opt/anaconda3/envs/EvalTest_py_3_8/lib/python3.8/site-packages (from aiohttp<4.0.0,>=3.8.3->langchain) (1.3.1)\r\n",
      "Requirement already satisfied: attrs>=17.3.0 in /Users/mehranspitman/opt/anaconda3/envs/EvalTest_py_3_8/lib/python3.8/site-packages (from aiohttp<4.0.0,>=3.8.3->langchain) (23.1.0)\r\n",
      "Requirement already satisfied: frozenlist>=1.1.1 in /Users/mehranspitman/opt/anaconda3/envs/EvalTest_py_3_8/lib/python3.8/site-packages (from aiohttp<4.0.0,>=3.8.3->langchain) (1.4.1)\r\n",
      "Requirement already satisfied: multidict<7.0,>=4.5 in /Users/mehranspitman/opt/anaconda3/envs/EvalTest_py_3_8/lib/python3.8/site-packages (from aiohttp<4.0.0,>=3.8.3->langchain) (6.0.5)\r\n",
      "Requirement already satisfied: yarl<2.0,>=1.0 in /Users/mehranspitman/opt/anaconda3/envs/EvalTest_py_3_8/lib/python3.8/site-packages (from aiohttp<4.0.0,>=3.8.3->langchain) (1.9.4)\r\n",
      "Collecting marshmallow<4.0.0,>=3.18.0 (from dataclasses-json<0.7,>=0.5.7->langchain_community)\r\n",
      "  Downloading marshmallow-3.21.3-py3-none-any.whl.metadata (7.1 kB)\r\n",
      "Collecting typing-inspect<1,>=0.4.0 (from dataclasses-json<0.7,>=0.5.7->langchain_community)\r\n",
      "  Downloading typing_inspect-0.9.0-py3-none-any.whl.metadata (1.5 kB)\r\n",
      "Requirement already satisfied: jsonpatch<2.0,>=1.33 in /Users/mehranspitman/opt/anaconda3/envs/EvalTest_py_3_8/lib/python3.8/site-packages (from langchain-core<0.3.0,>=0.2.23->langchain) (1.33)\r\n",
      "Requirement already satisfied: packaging<25,>=23.2 in /Users/mehranspitman/opt/anaconda3/envs/EvalTest_py_3_8/lib/python3.8/site-packages (from langchain-core<0.3.0,>=0.2.23->langchain) (24.1)\r\n",
      "Requirement already satisfied: orjson<4.0.0,>=3.9.14 in /Users/mehranspitman/opt/anaconda3/envs/EvalTest_py_3_8/lib/python3.8/site-packages (from langsmith<0.2.0,>=0.1.17->langchain) (3.10.6)\r\n",
      "Requirement already satisfied: annotated-types>=0.4.0 in /Users/mehranspitman/opt/anaconda3/envs/EvalTest_py_3_8/lib/python3.8/site-packages (from pydantic<3,>=1->langchain) (0.7.0)\r\n",
      "Requirement already satisfied: pydantic-core==2.20.1 in /Users/mehranspitman/opt/anaconda3/envs/EvalTest_py_3_8/lib/python3.8/site-packages (from pydantic<3,>=1->langchain) (2.20.1)\r\n",
      "Requirement already satisfied: typing-extensions>=4.6.1 in /Users/mehranspitman/opt/anaconda3/envs/EvalTest_py_3_8/lib/python3.8/site-packages (from pydantic<3,>=1->langchain) (4.9.0)\r\n",
      "Requirement already satisfied: charset-normalizer<4,>=2 in /Users/mehranspitman/opt/anaconda3/envs/EvalTest_py_3_8/lib/python3.8/site-packages (from requests<3,>=2->langchain) (2.0.4)\r\n",
      "Requirement already satisfied: idna<4,>=2.5 in /Users/mehranspitman/opt/anaconda3/envs/EvalTest_py_3_8/lib/python3.8/site-packages (from requests<3,>=2->langchain) (3.4)\r\n",
      "Requirement already satisfied: urllib3<3,>=1.21.1 in /Users/mehranspitman/opt/anaconda3/envs/EvalTest_py_3_8/lib/python3.8/site-packages (from requests<3,>=2->langchain) (1.26.18)\r\n",
      "Requirement already satisfied: certifi>=2017.4.17 in /Users/mehranspitman/opt/anaconda3/envs/EvalTest_py_3_8/lib/python3.8/site-packages (from requests<3,>=2->langchain) (2024.7.4)\r\n",
      "Requirement already satisfied: greenlet!=0.4.17 in /Users/mehranspitman/opt/anaconda3/envs/EvalTest_py_3_8/lib/python3.8/site-packages (from SQLAlchemy<3,>=1.4->langchain) (3.0.3)\r\n",
      "Requirement already satisfied: jsonpointer>=1.9 in /Users/mehranspitman/opt/anaconda3/envs/EvalTest_py_3_8/lib/python3.8/site-packages (from jsonpatch<2.0,>=1.33->langchain-core<0.3.0,>=0.2.23->langchain) (3.0.0)\r\n",
      "Collecting mypy-extensions>=0.3.0 (from typing-inspect<1,>=0.4.0->dataclasses-json<0.7,>=0.5.7->langchain_community)\r\n",
      "  Downloading mypy_extensions-1.0.0-py3-none-any.whl.metadata (1.1 kB)\r\n",
      "Downloading langchain_community-0.2.10-py3-none-any.whl (2.3 MB)\r\n",
      "\u001B[2K   \u001B[90m━━━━━━━━━━━━━━━━━━━━━━━━━━━━━━━━━━━━━━━━\u001B[0m \u001B[32m2.3/2.3 MB\u001B[0m \u001B[31m17.2 MB/s\u001B[0m eta \u001B[36m0:00:00\u001B[0ma \u001B[36m0:00:01\u001B[0m\r\n",
      "\u001B[?25hDownloading dataclasses_json-0.6.7-py3-none-any.whl (28 kB)\r\n",
      "Downloading marshmallow-3.21.3-py3-none-any.whl (49 kB)\r\n",
      "\u001B[2K   \u001B[90m━━━━━━━━━━━━━━━━━━━━━━━━━━━━━━━━━━━━━━━━\u001B[0m \u001B[32m49.2/49.2 kB\u001B[0m \u001B[31m3.1 MB/s\u001B[0m eta \u001B[36m0:00:00\u001B[0m\r\n",
      "\u001B[?25hDownloading typing_inspect-0.9.0-py3-none-any.whl (8.8 kB)\r\n",
      "Downloading mypy_extensions-1.0.0-py3-none-any.whl (4.7 kB)\r\n",
      "Installing collected packages: mypy-extensions, marshmallow, typing-inspect, dataclasses-json, langchain_community\r\n",
      "Successfully installed dataclasses-json-0.6.7 langchain_community-0.2.10 marshmallow-3.21.3 mypy-extensions-1.0.0 typing-inspect-0.9.0\r\n"
     ]
    }
   ],
   "execution_count": 7
  },
  {
   "cell_type": "code",
   "metadata": {
    "ExecuteTime": {
     "end_time": "2024-07-23T19:50:25.791260Z",
     "start_time": "2024-07-23T19:50:01.878637Z"
    }
   },
   "source": [
    "from langchain_community.chat_models import ChatOllama\n",
    "\n",
    "llm = ChatOllama(model=\"llama3\", temperature=0)\n",
    "response = llm.invoke(\"who wrote the book godfather?\")\n",
    "print(response.content)\n"
   ],
   "outputs": [
    {
     "name": "stdout",
     "output_type": "stream",
     "text": [
      "The novel \"The Godfather\" was written by Mario Puzo. The book was published in 1969 and became a huge success, selling millions of copies worldwide. It tells the story of the Corleone family, an Italian-American Mafia family, and their struggles for power and loyalty.\n",
      "\n",
      "Mario Puzo's novel was later adapted into a film directed by Francis Ford Coppola, which also became a massive hit. The movie \"The Godfather\" (1972) is widely considered one of the greatest films of all time, and it won several Academy Awards, including Best Picture.\n",
      "\n",
      "Puzo went on to write several more novels and screenplays, many of which were inspired by his Italian-American heritage and his fascination with organized crime. He passed away in 1999 at the age of 78.\n"
     ]
    }
   ],
   "execution_count": 8
  },
  {
   "metadata": {},
   "cell_type": "code",
   "outputs": [],
   "execution_count": null,
   "source": ""
  }
 ],
 "metadata": {
  "kernelspec": {
   "display_name": "Python 3 (ipykernel)",
   "language": "python",
   "name": "python3"
  },
  "language_info": {
   "codemirror_mode": {
    "name": "ipython",
    "version": 3
   },
   "file_extension": ".py",
   "mimetype": "text/x-python",
   "name": "python",
   "nbconvert_exporter": "python",
   "pygments_lexer": "ipython3",
   "version": "3.11.9"
  }
 },
 "nbformat": 4,
 "nbformat_minor": 4
}
